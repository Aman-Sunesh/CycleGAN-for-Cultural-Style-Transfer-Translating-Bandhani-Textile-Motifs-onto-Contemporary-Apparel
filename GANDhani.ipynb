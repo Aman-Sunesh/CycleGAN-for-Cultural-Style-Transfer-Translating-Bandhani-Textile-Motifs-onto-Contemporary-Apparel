{
 "cells": [
  {
   "cell_type": "markdown",
   "id": "93175ca9",
   "metadata": {},
   "source": [
    "# GANDhani: CycleGAN for Cultural Style Transfer Translating Bandhani Textile Motifs onto Contemporary Apparel"
   ]
  },
  {
   "cell_type": "markdown",
   "id": "43d746b4",
   "metadata": {},
   "source": [
    "### Import Required Libraries"
   ]
  },
  {
   "cell_type": "code",
   "execution_count": 6,
   "id": "6ade7901",
   "metadata": {},
   "outputs": [],
   "source": [
    "import torch\n",
    "import torch.nn as nn"
   ]
  },
  {
   "cell_type": "markdown",
   "id": "473a0b90",
   "metadata": {},
   "source": [
    "### Data Proprocessing"
   ]
  },
  {
   "cell_type": "code",
   "execution_count": null,
   "id": "adaf155d",
   "metadata": {},
   "outputs": [],
   "source": []
  },
  {
   "cell_type": "code",
   "execution_count": null,
   "id": "438822b5",
   "metadata": {},
   "outputs": [],
   "source": []
  },
  {
   "cell_type": "markdown",
   "id": "b6faa883",
   "metadata": {},
   "source": [
    "### Discriminator Network"
   ]
  },
  {
   "cell_type": "code",
   "execution_count": 7,
   "id": "5d99da3e",
   "metadata": {},
   "outputs": [],
   "source": [
    "class Discriminator(nn.Module):\n",
    "    def __init__(self, in_channels=3, base_features=64):\n",
    "        super().__init__()\n",
    "        self.model = nn.Sequential(\n",
    "            nn.Conv2d(in_channels, base_features, kernel_size=4, stride=2, padding=1),\n",
    "            nn.LeakyReLU(0.2, inplace=True),\n",
    "\n",
    "            nn.Conv2d(base_features, base_features * 2, kernel_size=4, stride=2, padding=1),\n",
    "            nn.InstanceNorm2d(base_features * 2),\n",
    "            nn.LeakyReLU(0.2, inplace=True),\n",
    "\n",
    "            nn.Conv2d(base_features * 2, base_features * 4, kernel_size=4, stride=2, padding=1),\n",
    "            nn.InstanceNorm2d(base_features * 4),\n",
    "            nn.LeakyReLU(0.2, inplace=True),\n",
    "\n",
    "            nn.Conv2d(base_features * 4, base_features * 8, kernel_size=4, stride=1, padding=1),\n",
    "            nn.InstanceNorm2d(base_features * 8),\n",
    "            nn.LeakyReLU(0.2, inplace=True),\n",
    "\n",
    "            nn.Conv2d(base_features * 8, 1, kernel_size=4, stride=1, padding=1)\n",
    "        )\n",
    "\n",
    "    def forward(self, x):\n",
    "        return self.model(x)"
   ]
  },
  {
   "cell_type": "markdown",
   "id": "74a92a0f",
   "metadata": {},
   "source": [
    "### Generator Network"
   ]
  },
  {
   "cell_type": "code",
   "execution_count": 8,
   "id": "2cf8a158",
   "metadata": {},
   "outputs": [],
   "source": [
    "class ResidualBlock(nn.Module):\n",
    "    def __init__(self, dim):\n",
    "        super().__init__()\n",
    "\n",
    "        self.block = nn.Sequential(\n",
    "            nn.ReflectionPad2d(1),\n",
    "            nn.Conv2d(dim, dim, kernel_size=3, stride=1, padding=0),\n",
    "            nn.InstanceNorm2d(dim),\n",
    "            nn.ReLU(True),\n",
    "            nn.ReflectionPad2d(1),\n",
    "            nn.Conv2d(dim, dim, kernel_size=3, stride=1, padding=0),\n",
    "            nn.InstanceNorm2d(dim),\n",
    "        )\n",
    "\n",
    "    def forward(self, x):\n",
    "        return x + self.block(x) # Skip Connections"
   ]
  },
  {
   "cell_type": "code",
   "execution_count": null,
   "id": "ba419f6a",
   "metadata": {},
   "outputs": [],
   "source": [
    "class Generator(nn.Module):\n",
    "    def __init__(self, in_channels=3, out_channels=3, features=64):\n",
    "        super().__init__()\n",
    "\n",
    "        self.g1 = nn.Sequential(\n",
    "            nn.ReflectionPad2d(3),\n",
    "            nn.Conv2d(in_channels, features, kernel_size=7, stride=1, padding=0),\n",
    "            nn.InstanceNorm2d(features),\n",
    "            nn.ReLU(True),\n",
    "        )\n",
    "\n",
    "        self.g2 = nn.Sequential(\n",
    "            nn.Conv2d(features, features*2, kernel_size=3, stride=2, padding=1),\n",
    "            nn.InstanceNorm2d(features*2),\n",
    "            nn.ReLU(True),\n",
    "        )\n",
    "\n",
    "        self.g3 = nn.Sequential(\n",
    "            nn.Conv2d(features*2, features*4, kernel_size=3, stride=2, padding=1),\n",
    "            nn.InstanceNorm2d(features*4),\n",
    "            nn.ReLU(True),\n",
    "        )\n",
    "\n",
    "        res_blocks = []\n",
    "\n",
    "        for _ in range(9):\n",
    "            res_blocks.append(ResidualBlock(features*4))\n",
    "        self.res_blocks = nn.Sequential(*res_blocks)\n",
    "\n",
    "        self.g4 = nn.Sequential(\n",
    "            nn.ConvTranspose2d(features*4, features*2, kernel_size=3, stride=2, padding=1, output_padding=1),\n",
    "            nn.InstanceNorm2d(features*2),\n",
    "            nn.ReLU(True),\n",
    "        )\n",
    "\n",
    "        self.g5 = nn.Sequential(\n",
    "            nn.ConvTranspose2d(features*2, features, kernel_size=3, stride=2, padding=1, output_padding=1),\n",
    "            nn.InstanceNorm2d(features),\n",
    "            nn.ReLU(True),\n",
    "        )\n",
    "\n",
    "        self.g6 = nn.Sequential(\n",
    "            nn.ReflectionPad2d(3),\n",
    "            nn.Conv2d(features, out_channels, kernel_size=7, stride=1, padding=0),\n",
    "            nn.Tanh()\n",
    "        )\n",
    "\n",
    "    def forward(self, x):\n",
    "        g1 = self.g1(x)\n",
    "        g2 = self.g2(g1)\n",
    "        g3 = self.g3(g2)\n",
    "        res = self.res_blocks(g3)\n",
    "        g4 = self.g4(res)\n",
    "        g5 = self.g5(g4)\n",
    "        \n",
    "        return self.g6(g5)"
   ]
  },
  {
   "cell_type": "markdown",
   "id": "59db5686",
   "metadata": {},
   "source": [
    "### Discriminator Training"
   ]
  },
  {
   "cell_type": "code",
   "execution_count": null,
   "id": "d76cf1e5",
   "metadata": {},
   "outputs": [],
   "source": []
  },
  {
   "cell_type": "markdown",
   "id": "96d80fe4",
   "metadata": {},
   "source": [
    "### Generator Training"
   ]
  },
  {
   "cell_type": "code",
   "execution_count": null,
   "id": "f5679633",
   "metadata": {},
   "outputs": [],
   "source": []
  },
  {
   "cell_type": "markdown",
   "id": "b1ace7dc",
   "metadata": {},
   "source": [
    "### Full Training Loop"
   ]
  },
  {
   "cell_type": "code",
   "execution_count": null,
   "id": "b24add8d",
   "metadata": {},
   "outputs": [],
   "source": []
  }
 ],
 "metadata": {
  "kernelspec": {
   "display_name": "Python 3",
   "language": "python",
   "name": "python3"
  },
  "language_info": {
   "codemirror_mode": {
    "name": "ipython",
    "version": 3
   },
   "file_extension": ".py",
   "mimetype": "text/x-python",
   "name": "python",
   "nbconvert_exporter": "python",
   "pygments_lexer": "ipython3",
   "version": "3.12.1"
  }
 },
 "nbformat": 4,
 "nbformat_minor": 5
}
